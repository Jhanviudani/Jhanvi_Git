{
 "cells": [
  {
   "cell_type": "markdown",
   "metadata": {},
   "source": [
    "# Unstructured Data Analytics HW2\n",
    "\n",
    "Name: Jhanvi Udani  \n",
    "\n",
    "Andrew ID: judani\n",
    "\n",
    "Human or AI collaborators (if none, say \"none\"; do not leave this blank): No human collaborators. Used GenAI for understanding and debugging code for the TFI-DF related questions. \n",
    "\n",
    "Reminder: you should not be sharing code."
   ]
  },
  {
   "cell_type": "markdown",
   "metadata": {},
   "source": [
    "## Question 1: Clustering emails using Gaussian Mixture Models [50 pts]"
   ]
  },
  {
   "cell_type": "markdown",
   "metadata": {},
   "source": [
    "For this problem, we will be analyzing emails taken from the [Enron Email Dataset](https://www.cs.cmu.edu/~enron/). We have already curated the data for you in the `data/enron` directory, with one file per email (so there is no need to redownload the dataset as it is already included in this homework zip archive). The dataset includes a combination of \"spam\" and \"ham\" emails. Spam emails are unsolicited messages intended to sell a product or scam users into providing personal information, while ham emails represent everything that is not spam.\n",
    "\n",
    "The language used in spam emails tends to be considerably different from typical business emails. Most spam filters leverage this difference in word frequencies to detect spam as it arrives and filter it out of email inboxes. We will use Gaussian Mixture Models (GMMs) to cluster the emails and attempt to identify groups of emails which are likely to be spam."
   ]
  },
  {
   "cell_type": "markdown",
   "metadata": {},
   "source": [
    "### Part A: Construct a list of processed documents [10 points]"
   ]
  },
  {
   "cell_type": "markdown",
   "metadata": {},
   "source": [
    "Provided below is a function that returns a document present in a file given a filename. The function performs some preprocessing to (1) remove punctuation, (2),(3) remove whitespace and (4) lowercase all words. Using the `make_word_list` function, construct a list of processed documents."
   ]
  },
  {
   "cell_type": "code",
   "execution_count": 34,
   "metadata": {},
   "outputs": [],
   "source": [
    "import re\n",
    "import string\n",
    "import codecs\n",
    "\n",
    "def make_word_list(path):\n",
    "    \n",
    "    with codecs.open(path, \"r\", encoding='utf-8', errors='ignore') as f:\n",
    "        corpus_text = f.read()\n",
    "\n",
    "    for c in string.punctuation:\n",
    "        corpus_text = corpus_text.replace(c, \"\")  # -- (1)\n",
    "    \n",
    "    text = re.sub(r'\\S*\\d\\S*', '', corpus_text) # -- (2)\n",
    "    text = re.sub(r'[^\\w\\s]', '', text)         # -- (3)\n",
    "    \n",
    "    text = text.lower().split()           # -- (4)         \n",
    "    \n",
    "    li = []\n",
    "    for token in text:\n",
    "        li.append(token)\n",
    "\n",
    "    return \" \".join(li)"
   ]
  },
  {
   "cell_type": "code",
   "execution_count": 35,
   "metadata": {},
   "outputs": [
    {
     "name": "stdout",
     "output_type": "stream",
     "text": [
      "Processed 5172 documents.\n"
     ]
    }
   ],
   "source": [
    "########################################################################\n",
    "######################### Write your code here #########################\n",
    "########################################################################\n",
    "import os \n",
    "\n",
    "enron_dir = \"data/enron\"\n",
    "\n",
    "documents = []\n",
    "\n",
    "for filename in os.listdir(enron_dir):\n",
    "    file_path = os.path.join(enron_dir, filename)\n",
    "    if os.path.isfile(file_path):\n",
    "        processed_doc = make_word_list(file_path)\n",
    "        documents.append(processed_doc)\n",
    "\n",
    "print(f\"Processed {len(documents)} documents.\")"
   ]
  },
  {
   "cell_type": "markdown",
   "metadata": {},
   "source": [
    "### Part B: Construct a document matrix [10 points]"
   ]
  },
  {
   "cell_type": "markdown",
   "metadata": {},
   "source": [
    "Next, construct a document matrix `X` as a matrix of [TF-IDF](https://en.wikipedia.org/wiki/Tf%E2%80%93idf) features for each document. TF-IDF features encode information about the word frequency within a document, weighted by the frequency of the same word for corpus as a whole.\n",
    "\n",
    "   - Use the `TfidfVectorizer` from [scikit-learn](http://scikit-learn.org/stable/modules/generated/sklearn.feature_extraction.text.TfidfVectorizer.html) to create the document matrix `X`.\n",
    "   - Set `min_df=50`; this drops words that don't occur in at least 50 documents.\n",
    "   - Set `stop_words=\"english\"` and `max_df=0.8` to filter out stop-words.\n",
    "   - Print the number of unique words in the vocabulary Hint: Look for the `vocabulary_` attribute in the `TfidfVectorizer` object after fitting the vectorizer to the data set. The vocabulary will also be needed in part (d)."
   ]
  },
  {
   "cell_type": "code",
   "execution_count": 36,
   "metadata": {},
   "outputs": [
    {
     "name": "stdout",
     "output_type": "stream",
     "text": [
      "Number of unique words in the vocabulary: 1680\n"
     ]
    }
   ],
   "source": [
    "########################################################################\n",
    "######################### Write your code here #########################\n",
    "########################################################################\n",
    "\n",
    "\n",
    "from sklearn.feature_extraction.text import TfidfVectorizer\n",
    "\n",
    "vectorizer = TfidfVectorizer(\n",
    "    min_df=50,\n",
    "    stop_words=\"english\",\n",
    "    max_df=0.8\n",
    ")\n",
    "\n",
    "X = vectorizer.fit_transform(documents)\n",
    "\n",
    "vocab = vectorizer.vocabulary_\n",
    "\n",
    "print(f\"Number of unique words in the vocabulary: {len(vocab)}\")\n"
   ]
  },
  {
   "cell_type": "markdown",
   "metadata": {},
   "source": [
    "### Part C: Perform Clustering [10 points]"
   ]
  },
  {
   "cell_type": "markdown",
   "metadata": {},
   "source": [
    "Perform clustering on the document matrix `X` using GMMs. \n",
    "- Use the `GaussianMixture` module from [scikit-learn](http://scikit-learn.org/stable/modules/generated/sklearn.mixture.GaussianMixture.html) to cluster the documents.\n",
    "- Set the number of clusters (mixture components) to 3.\n",
    "- Print the number of documents assigned to each cluster."
   ]
  },
  {
   "cell_type": "code",
   "execution_count": 37,
   "metadata": {},
   "outputs": [
    {
     "name": "stdout",
     "output_type": "stream",
     "text": [
      "Number of documents per cluster:\n",
      "Cluster 0: 4350 documents\n",
      "Cluster 1: 341 documents\n",
      "Cluster 2: 481 documents\n"
     ]
    }
   ],
   "source": [
    "########################################################################\n",
    "######################### Write your code here #########################\n",
    "########################################################################\n",
    "\n",
    "from sklearn.mixture import GaussianMixture\n",
    "\n",
    "X_dense = X.toarray()\n",
    "\n",
    "gmm = GaussianMixture(n_components=3, random_state=42)\n",
    "\n",
    "predicted_clusters = gmm.fit_predict(X_dense)\n",
    "\n",
    "cluster_counts = [sum(predicted_clusters == i) for i in range(3)]\n",
    "\n",
    "print(\"Number of documents per cluster:\")\n",
    "for i, count in enumerate(cluster_counts):\n",
    "    print(f\"Cluster {i}: {count} documents\")\n"
   ]
  },
  {
   "cell_type": "markdown",
   "metadata": {},
   "source": [
    "### Part D: Characterize the clusters [10 points]"
   ]
  },
  {
   "cell_type": "markdown",
   "metadata": {},
   "source": [
    "Now, we will attempt to characterize the clusters based on the frequency of spam-relevant words. \n",
    "- Select 3 \"spammy\" words from the vocabulary that you expect to occur frequently in spam emails and less frequently in normal business emails (e.g., 'click', 'www', 'offer'). Construct a list, `spam_indices`, storing the indices of the spammy words you selected in the vocabulary generated by `TfidfVectorizer`.\n",
    "- Select 3 \"hammy\" words from the vocabulary you think will occur frequently in business emails and infrequently in spam emails (e.g., 'meeting', 'attached', 'review'). Construct a list, `ham_indices`, storing the indices of the hammy words you selected in the vocabulary generated by `TfidfVectorizer`.\n",
    "- Use the function provided below, `plot_spam_words_by_cluster`, to plot the average TF-IDF features for your selected spammy words and hammy words for each cluster. The function takes the following parameters:\n",
    "    - `X` is a matrix of TF-IDF features (rows index documents, columns index terms).\n",
    "    - `predicted` is predicted cluster assignments returned by `GaussianMixture.predict()`\n",
    "    - `n_clusters` is the number of clusters. This should match the number of clusters from your GMM.\n",
    "    - `spam_indices` is a list of indices of spammy words in the vocabulary.\n",
    "    - `ham_indices` is a list of indices of hammy (typical business) words in the vocabulary."
   ]
  },
  {
   "cell_type": "code",
   "execution_count": 38,
   "metadata": {},
   "outputs": [],
   "source": [
    "def plot_spam_words_by_cluster(X, predicted, n_clusters, spam_indices, ham_indices):\n",
    "    import numpy as np\n",
    "    import matplotlib.pyplot as plt\n",
    "    \n",
    "    # Calculate mean TF-IDF features for each cluster\n",
    "    mean_tfidf_spam = []\n",
    "    mean_tfidf_ham = []\n",
    "    for spam in spam_indices:\n",
    "        mean_tfidf_spam.append([])\n",
    "    for ham in ham_indices:\n",
    "        mean_tfidf_ham.append([])\n",
    "    \n",
    "    for i in range(n_clusters):\n",
    "        for j, spam_idx in enumerate(spam_indices):\n",
    "            mean_tfidf_spam[j].append(X[predicted==i, spam_idx].mean())\n",
    "        for j, ham_idx in enumerate(ham_indices):\n",
    "            mean_tfidf_ham[j].append(X[predicted==i, ham_idx].mean())\n",
    "    \n",
    "    # Generate plot\n",
    "    fig, ax = plt.subplots()\n",
    "\n",
    "    ind = np.arange(n_clusters)    # the x locations for the groups\n",
    "    width = 0.10         # the width of the bars\n",
    "\n",
    "    # Plot spam bars\n",
    "    for i, val in enumerate(mean_tfidf_spam):\n",
    "        spam_bar = ax.bar(ind - (len(mean_tfidf_spam)-i-1)*width, val, width, color='r', bottom=0)\n",
    "\n",
    "    # Plot ham bars\n",
    "    for i, val in enumerate(mean_tfidf_ham):\n",
    "        ham_bar = ax.bar(ind + (len(mean_tfidf_ham)-i)*width, val, width,\n",
    "                color='y', bottom=0)\n",
    "\n",
    "    ax.set_title('Mean TF-IDF Features by Cluster for Spam-Relevant Words')\n",
    "    ax.set_xticks(ind + width / 2)\n",
    "    xticklabels = []\n",
    "    for i in range(n_clusters):\n",
    "        xticklabels.append('Cluster ' + str(i) + '\\n(n=' + str((predicted==i).sum()) + ')')\n",
    "    ax.set_xticklabels(xticklabels)\n",
    "\n",
    "    ax.legend((spam_bar[0], ham_bar[0]), ('Spammy words', 'Hammy words'))\n",
    "    ax.autoscale_view()\n",
    "    ax.set_ylabel('Mean TF-IDF')\n",
    "    plt.show()"
   ]
  },
  {
   "cell_type": "code",
   "execution_count": 39,
   "metadata": {},
   "outputs": [
    {
     "name": "stdout",
     "output_type": "stream",
     "text": [
      "Spammy words and indices: [('click', 238), ('www', 1670), ('offer', 998)]\n",
      "Hammy words and indices: [('meeting', 904), ('attached', 108), ('review', 1283)]\n"
     ]
    },
    {
     "data": {
      "image/png": "[encoded data removed]",
      "text/plain": [
       "<Figure size 640x480 with 1 Axes>"
      ]
     },
     "metadata": {},
     "output_type": "display_data"
    }
   ],
   "source": [
    "########################################################################\n",
    "######################### Write your code here #########################\n",
    "########################################################################\n",
    "\n",
    "feature_names = vectorizer.get_feature_names_out()\n",
    "\n",
    "spam_words = ['click', 'www', 'offer']\n",
    "ham_words = ['meeting', 'attached', 'review']\n",
    "\n",
    "spam_indices = [np.where(feature_names == word)[0][0] for word in spam_words]\n",
    "ham_indices = [np.where(feature_names == word)[0][0] for word in ham_words]\n",
    "\n",
    "print(\"Spammy words and indices:\", list(zip(spam_words, spam_indices)))\n",
    "print(\"Hammy words and indices:\", list(zip(ham_words, ham_indices)))\n",
    "\n",
    "plot_spam_words_by_cluster(X, predicted_clusters, n_clusters=3, \n",
    "                           spam_indices=spam_indices, ham_indices=ham_indices)\n",
    "\n"
   ]
  },
  {
   "cell_type": "code",
   "execution_count": 40,
   "metadata": {},
   "outputs": [
    {
     "name": "stdout",
     "output_type": "stream",
     "text": [
      "['aa' 'ability' 'able' ... 'yesterday' 'york' 'young']\n"
     ]
    }
   ],
   "source": [
    "print(feature_names)\n"
   ]
  },
  {
   "cell_type": "markdown",
   "metadata": {},
   "source": [
    "##### Note: Used perplexity.ai to understand the requirement of this question and it gave me some code. After looking at that, I could write my own code with some changes. "
   ]
  },
  {
   "cell_type": "markdown",
   "metadata": {},
   "source": [
    "### Part E: Interpret results [10 points]"
   ]
  },
  {
   "cell_type": "markdown",
   "metadata": {},
   "source": [
    "From the plot generated in part (d), do any of the clusters correspond to spam emails, based on the frequency of spammy and hammy words? Do any of the clusters appear to correspond to typical business emails (ham)? \n",
    "\n",
    "Re-run your analysis with a different choice for the number of clusters in your GMM (e.g., `n_clusters=5` or `n_clusters=2`). How does changing the number of clusters affect your results? Does one choice of `n_clusters` appear better than another for locating clusters of spam emails?"
   ]
  },
  {
   "cell_type": "markdown",
   "metadata": {},
   "source": [
    "*** WRITE YOUR ANSWER HERE IN TEXT ***\n",
    "\n",
    "\n",
    "#### Three-Cluster Model Results\n",
    "\n",
    "- **Cluster 0** (4,350 documents): Shows a moderate presence of both spammy and hammy words. The yellow bars (hammy words) appear significant, suggesting this cluster contains legitimate business emails with some spam-like terms.\n",
    "\n",
    "- **Cluster 1** (341 documents): Has very high red bars (spammy words) and virtually no yellow bars (hammy words). This strongly indicates a spam cluster - these 341 emails appear to be predominantly spam.\n",
    "\n",
    "- **Cluster 2** (481 documents): Shows some spammy word presence but minimal hammy word presence. This appears to be another potential spam cluster, though not as pronounced as Cluster 1.\n",
    "\n",
    "#### Two-Cluster Model Results (as run in the following code cell): \n",
    "\n",
    "Your second chart with 2 clusters shows:\n",
    "\n",
    "- **Cluster 0** (4,561 documents): Contains both spammy and hammy words in a balanced distribution, suggesting these are primarily legitimate business emails.\n",
    "\n",
    "- **Cluster 1** (611 documents): Shows very high spammy word frequency and minimal hammy word presence, strongly indicating this is a spam cluster.\n",
    "\n",
    "#### Comparison of Models\n",
    "\n",
    "The 2-cluster model appears to have more cleanly separated emails into:\n",
    "1. A ham cluster (Cluster 0)\n",
    "2. A spam cluster (Cluster 1)\n",
    "\n",
    "The 3-cluster model split the data into:\n",
    "1. A ham cluster (Cluster 0)\n",
    "2. A very obvious spam cluster (Cluster 1)\n",
    "3. A secondary, less obvious spam cluster (Cluster 2)\n",
    "\n",
    "For spam detection purposes, the 2-cluster model appears more practical as it creates a cleaner separation between ham and spam. The 3-cluster model provides more granularity by identifying different \"types\" of spam, which might be useful for more nuanced analysis.\n",
    "\n",
    "GMM clustering has successfully identified distinct email types based on word frequencies, with clear evidence of separation between spam and legitimate business correspondence.\n"
   ]
  },
  {
   "cell_type": "code",
   "execution_count": 41,
   "metadata": {},
   "outputs": [
    {
     "data": {
      "image/png": "[encoded data removed]",
      "text/plain": [
       "<Figure size 640x480 with 1 Axes>"
      ]
     },
     "metadata": {},
     "output_type": "display_data"
    }
   ],
   "source": [
    "########################################################################\n",
    "######################### Write your code here #########################\n",
    "########################################################################\n",
    "\n",
    "# For n_clusters=2\n",
    "gmm = GaussianMixture(n_components=2, random_state=42)\n",
    "predicted_clusters = gmm.fit_predict(X_dense)\n",
    "plot_spam_words_by_cluster(X, predicted_clusters, n_clusters=2, \n",
    "                           spam_indices=spam_indices, ham_indices=ham_indices)\n"
   ]
  },
  {
   "cell_type": "markdown",
   "metadata": {},
   "source": [
    "## Question 2: Latent \"Purposes\" in Mobile Apps [45 points]\n",
    "\n",
    "\n",
    "Think of Android applications as \"documents\", where \"words\" are the \"permissions\" that each app requests. Each app has a set of latent \"purposes\" (topics); a \"purpose\" may be a specific task (such as taking photographs and uploading them to the internet), and an application may have a mixture of purposes of varying strength.\n",
    "\n",
    "Can we uncover these purposes from a dataset of Android applications and the permissions they request?"
   ]
  },
  {
   "cell_type": "code",
   "execution_count": 42,
   "metadata": {},
   "outputs": [],
   "source": [
    "import numpy as np\n",
    "import matplotlib.pyplot as plt\n",
    "import pandas as pd"
   ]
  },
  {
   "cell_type": "markdown",
   "metadata": {},
   "source": [
    "### Part A: Load the data [0 points]"
   ]
  },
  {
   "cell_type": "markdown",
   "metadata": {},
   "source": [
    "The [dataset](http://www.mariofrank.net/andrApps/) contains ~180,000 applications from the Android app store, including each app's name, description and permissions requested. For more about Android app permissions, see [this report](http://www.pewinternet.org/2015/11/10/an-analysis-of-android-app-permissions/).\n",
    "\n",
    "   * Download the data and unzip it into the same folder as this notebook.\n",
    "   * Rename the CSV file to \"android.csv\".\n",
    "   * Run the cells below to load the data into the notebook.\n",
    "\n",
    "This may take up ~2GB of RAM."
   ]
  },
  {
   "cell_type": "code",
   "execution_count": 43,
   "metadata": {},
   "outputs": [],
   "source": [
    "df = pd.read_csv(\"android.csv\", sep=\",\",  thousands=\",\")"
   ]
  },
  {
   "cell_type": "code",
   "execution_count": 44,
   "metadata": {},
   "outputs": [],
   "source": [
    "df[\"Number of ratings\"] = df[\"Number of ratings\"].astype(int) # fix data type\n",
    "df = df.drop_duplicates(subset=[\"App\"]).reset_index(drop=True)"
   ]
  },
  {
   "cell_type": "code",
   "execution_count": 45,
   "metadata": {},
   "outputs": [
    {
     "data": {
      "text/html": [
       "<div>\n",
       "<style scoped>\n",
       "    .dataframe tbody tr th:only-of-type {\n",
       "        vertical-align: middle;\n",
       "    }\n",
       "\n",
       "    .dataframe tbody tr th {\n",
       "        vertical-align: top;\n",
       "    }\n",
       "\n",
       "    .dataframe thead th {\n",
       "        text-align: right;\n",
       "    }\n",
       "</style>\n",
       "<table border=\"1\" class=\"dataframe\">\n",
       "  <thead>\n",
       "    <tr style=\"text-align: right;\">\n",
       "      <th></th>\n",
       "      <th>App</th>\n",
       "      <th>Package</th>\n",
       "      <th>Category</th>\n",
       "      <th>Description</th>\n",
       "      <th>Rating</th>\n",
       "      <th>Number of ratings</th>\n",
       "      <th>Price</th>\n",
       "      <th>Related apps</th>\n",
       "      <th>Dangerous permissions count</th>\n",
       "      <th>Safe permissions count</th>\n",
       "      <th>...</th>\n",
       "      <th>Your personal information : read Browser's history and bookmarks (D)</th>\n",
       "      <th>Your personal information : read calendar events (D)</th>\n",
       "      <th>Your personal information : read contact data (D)</th>\n",
       "      <th>Your personal information : read sensitive log data (D)</th>\n",
       "      <th>Your personal information : read user defined dictionary (D)</th>\n",
       "      <th>Your personal information : retrieve system internal state (S)</th>\n",
       "      <th>Your personal information : set alarm in alarm clock (S)</th>\n",
       "      <th>Your personal information : write Browser's history and bookmarks (D)</th>\n",
       "      <th>Your personal information : write contact data (D)</th>\n",
       "      <th>Your personal information : write to user defined dictionary (S)</th>\n",
       "    </tr>\n",
       "  </thead>\n",
       "  <tbody>\n",
       "    <tr>\n",
       "      <th>0</th>\n",
       "      <td>Google Maps</td>\n",
       "      <td>com.google.android.apps.maps</td>\n",
       "      <td>Travel &amp; Local</td>\n",
       "      <td>Download the latest release of Google Maps, an...</td>\n",
       "      <td>4.4</td>\n",
       "      <td>1438259</td>\n",
       "      <td>$0.00</td>\n",
       "      <td>{com.jsdfproductions.ctatrackerpro, com.alk.co...</td>\n",
       "      <td>17.0</td>\n",
       "      <td>8</td>\n",
       "      <td>...</td>\n",
       "      <td>0</td>\n",
       "      <td>0</td>\n",
       "      <td>1</td>\n",
       "      <td>0</td>\n",
       "      <td>0</td>\n",
       "      <td>0</td>\n",
       "      <td>0</td>\n",
       "      <td>0</td>\n",
       "      <td>1</td>\n",
       "      <td>0</td>\n",
       "    </tr>\n",
       "    <tr>\n",
       "      <th>1</th>\n",
       "      <td>Snowfall Live Wallpaper</td>\n",
       "      <td>fishnoodle.snowfall_free</td>\n",
       "      <td>Personalization</td>\n",
       "      <td>Snowfall Live Wallpaper: Wintertime on your ho...</td>\n",
       "      <td>4.3</td>\n",
       "      <td>18147</td>\n",
       "      <td>$0.00</td>\n",
       "      <td>{colfore.wallpaper.snowfree, com.tabsoft.wallp...</td>\n",
       "      <td>0.0</td>\n",
       "      <td>0</td>\n",
       "      <td>...</td>\n",
       "      <td>0</td>\n",
       "      <td>0</td>\n",
       "      <td>0</td>\n",
       "      <td>0</td>\n",
       "      <td>0</td>\n",
       "      <td>0</td>\n",
       "      <td>0</td>\n",
       "      <td>0</td>\n",
       "      <td>0</td>\n",
       "      <td>0</td>\n",
       "    </tr>\n",
       "    <tr>\n",
       "      <th>2</th>\n",
       "      <td>Aquarium Live Wallpaper</td>\n",
       "      <td>fishnoodle.aquarium_free</td>\n",
       "      <td>Personalization</td>\n",
       "      <td>A beautiful tropical fish tank live wallpaper!...</td>\n",
       "      <td>4.1</td>\n",
       "      <td>62145</td>\n",
       "      <td>$0.00</td>\n",
       "      <td>{com.convisual.lwp.fishometerlite, com.accessl...</td>\n",
       "      <td>0.0</td>\n",
       "      <td>0</td>\n",
       "      <td>...</td>\n",
       "      <td>0</td>\n",
       "      <td>0</td>\n",
       "      <td>0</td>\n",
       "      <td>0</td>\n",
       "      <td>0</td>\n",
       "      <td>0</td>\n",
       "      <td>0</td>\n",
       "      <td>0</td>\n",
       "      <td>0</td>\n",
       "      <td>0</td>\n",
       "    </tr>\n",
       "  </tbody>\n",
       "</table>\n",
       "<p>3 rows × 183 columns</p>\n",
       "</div>"
      ],
      "text/plain": [
       "                       App                       Package         Category  \\\n",
       "0              Google Maps  com.google.android.apps.maps   Travel & Local   \n",
       "1  Snowfall Live Wallpaper      fishnoodle.snowfall_free  Personalization   \n",
       "2  Aquarium Live Wallpaper      fishnoodle.aquarium_free  Personalization   \n",
       "\n",
       "                                         Description  Rating  \\\n",
       "0  Download the latest release of Google Maps, an...     4.4   \n",
       "1  Snowfall Live Wallpaper: Wintertime on your ho...     4.3   \n",
       "2  A beautiful tropical fish tank live wallpaper!...     4.1   \n",
       "\n",
       "   Number of ratings  Price  \\\n",
       "0            1438259  $0.00   \n",
       "1              18147  $0.00   \n",
       "2              62145  $0.00   \n",
       "\n",
       "                                        Related apps  \\\n",
       "0  {com.jsdfproductions.ctatrackerpro, com.alk.co...   \n",
       "1  {colfore.wallpaper.snowfree, com.tabsoft.wallp...   \n",
       "2  {com.convisual.lwp.fishometerlite, com.accessl...   \n",
       "\n",
       "   Dangerous permissions count  Safe permissions count  ...  \\\n",
       "0                         17.0                       8  ...   \n",
       "1                          0.0                       0  ...   \n",
       "2                          0.0                       0  ...   \n",
       "\n",
       "   Your personal information : read Browser's history and bookmarks (D)  \\\n",
       "0                                                  0                      \n",
       "1                                                  0                      \n",
       "2                                                  0                      \n",
       "\n",
       "   Your personal information : read calendar events (D)  \\\n",
       "0                                                  0      \n",
       "1                                                  0      \n",
       "2                                                  0      \n",
       "\n",
       "   Your personal information : read contact data (D)  \\\n",
       "0                                                  1   \n",
       "1                                                  0   \n",
       "2                                                  0   \n",
       "\n",
       "   Your personal information : read sensitive log data (D)  \\\n",
       "0                                                  0         \n",
       "1                                                  0         \n",
       "2                                                  0         \n",
       "\n",
       "   Your personal information : read user defined dictionary (D)  \\\n",
       "0                                                  0              \n",
       "1                                                  0              \n",
       "2                                                  0              \n",
       "\n",
       "   Your personal information : retrieve system internal state (S)  \\\n",
       "0                                                  0                \n",
       "1                                                  0                \n",
       "2                                                  0                \n",
       "\n",
       "   Your personal information : set alarm in alarm clock (S)  \\\n",
       "0                                                  0          \n",
       "1                                                  0          \n",
       "2                                                  0          \n",
       "\n",
       "   Your personal information : write Browser's history and bookmarks (D)  \\\n",
       "0                                                  0                       \n",
       "1                                                  0                       \n",
       "2                                                  0                       \n",
       "\n",
       "   Your personal information : write contact data (D)  \\\n",
       "0                                                  1    \n",
       "1                                                  0    \n",
       "2                                                  0    \n",
       "\n",
       "   Your personal information : write to user defined dictionary (S)  \n",
       "0                                                  0                 \n",
       "1                                                  0                 \n",
       "2                                                  0                 \n",
       "\n",
       "[3 rows x 183 columns]"
      ]
     },
     "execution_count": 45,
     "metadata": {},
     "output_type": "execute_result"
    }
   ],
   "source": [
    "df.head(n=3)"
   ]
  },
  {
   "cell_type": "markdown",
   "metadata": {},
   "source": [
    "### Part B: Convert each app into a \"document\" [0 points]\n",
    "\n",
    "The code below does the following:\n",
    "\n",
    "   * Filter out all the columns except the permission columns.\n",
    "   * Convert this dataframe into a numpy matrix.\n",
    "\n",
    "There are thus 180295 apps (documents) and 173 permissions (words).\n",
    "\n",
    "   - `X` is the \"document\" or \"word-frequency\" matrix.\n",
    "   - `permission_columns` contains the words ordered by their column index in X.\n",
    "   - `app_names` contains the application names ordered by their row index in X.\n",
    "   - `app_ratings` contains the *number* of application ratings (not the ratings themselves)."
   ]
  },
  {
   "cell_type": "code",
   "execution_count": 46,
   "metadata": {},
   "outputs": [],
   "source": [
    "permission_columns = list(df.columns[10:])\n",
    "app_names = list(df[\"App\"])\n",
    "app_ratings = np.array(df[\"Number of ratings\"])\n",
    "df_perms = df[permission_columns]\n",
    "X = df_perms.values\n",
    "del df # uncomment to free up RAM\n",
    "del df_perms # uncomment to free up RAM"
   ]
  },
  {
   "cell_type": "markdown",
   "metadata": {},
   "source": [
    "### Part C: Downweight \"stopwords\" [2.5 points]\n",
    "\n",
    "There are some permissions requested by almost all applications (like \"INTERNET\"), they are similar to stop-words (\"the\", \"and\", etc.) in natural language. We can downweight them by TF-IDF normalization.\n",
    "\n",
    "   * Use the `TfidfTransformer` class in `scikit-learn` to transform X."
   ]
  },
  {
   "cell_type": "code",
   "execution_count": 47,
   "metadata": {},
   "outputs": [
    {
     "name": "stdout",
     "output_type": "stream",
     "text": [
      "TF-IDF transformation complete. Shape: (180295, 173)\n"
     ]
    }
   ],
   "source": [
    "########################################################################\n",
    "######################### Write your code here #########################\n",
    "########################################################################\n",
    "\n",
    "from sklearn.feature_extraction.text import TfidfTransformer\n",
    "\n",
    "tfidf_transformer = TfidfTransformer()\n",
    "X_tfidf = tfidf_transformer.fit_transform(X)\n",
    "\n",
    "print(\"TF-IDF transformation complete. Shape:\", X_tfidf.shape)\n"
   ]
  },
  {
   "cell_type": "markdown",
   "metadata": {},
   "source": [
    "### Part D: Discover 10 \"topics\" [2.5 points]\n",
    "\n",
    "   * Use the `LatentDirichletAllocation` class in `scikit-learn` to fit 10 topics to the data.\n",
    "   * Use 10 max iterations, set `n_jobs=-1` to use all cores on your machine (if it helps).\n",
    "   * Feel free to understand and play around with other parameters.\n",
    "   * This may take around 3 minutes to run."
   ]
  },
  {
   "cell_type": "code",
   "execution_count": 48,
   "metadata": {},
   "outputs": [
    {
     "name": "stdout",
     "output_type": "stream",
     "text": [
      "LDA model fitting complete!\n",
      "Topic-document matrix shape: (180295, 10)\n",
      "CPU times: user 2.1 s, sys: 501 ms, total: 2.6 s\n",
      "Wall time: 13.1 s\n"
     ]
    }
   ],
   "source": [
    "%%time\n",
    "########################################################################\n",
    "######################### Write your code here #########################\n",
    "########################################################################\n",
    "\n",
    "from sklearn.decomposition import LatentDirichletAllocation\n",
    "\n",
    "lda = LatentDirichletAllocation(\n",
    "    n_components=10,  \n",
    "    max_iter=10,      \n",
    "    n_jobs=-1,        \n",
    "    random_state=42   \n",
    ")\n",
    "\n",
    "topic_document = lda.fit_transform(X_tfidf)\n",
    "\n",
    "print(\"LDA model fitting complete!\")\n",
    "print(f\"Topic-document matrix shape: {topic_document.shape}\")\n"
   ]
  },
  {
   "cell_type": "markdown",
   "metadata": {},
   "source": [
    "Now each app can be viewed as a distribution over these 10 topics, and each topic is a distribution over all the permissions in the data."
   ]
  },
  {
   "cell_type": "markdown",
   "metadata": {},
   "source": [
    "### Part E: List the top 10 \"words\" in each topic [15 points]\n",
    "\n",
    "Do any of the topics correspond to meaningful app \"purposes\"? List the ones you find meaningful below:\n",
    "\n",
    "   * Topic #i: \"your interpretation\""
   ]
  },
  {
   "cell_type": "code",
   "execution_count": 49,
   "metadata": {},
   "outputs": [
    {
     "name": "stdout",
     "output_type": "stream",
     "text": [
      "Topic 0:\n",
      "    1. Services that cost you money : send SMS messages (D) (weight: 2256.2381)\n",
      "    2. Hardware controls : record audio (D) (weight: 1904.2744)\n",
      "    3. Your personal information : read contact data (D) (weight: 1468.6182)\n",
      "    4. Your messages : receive SMS (D) (weight: 1408.1937)\n",
      "    5. Phone calls : read phone state and identity (D) (weight: 1134.1606)\n",
      "    6. Your messages : read SMS or MMS (D) (weight: 1124.5646)\n",
      "    7. Phone calls : intercept outgoing calls (D) (weight: 1098.5517)\n",
      "    8. Network communication : full Internet access (D) (weight: 1014.1104)\n",
      "    9. System tools : automatically start at boot (S) (weight: 981.9601)\n",
      "    10. Network communication : create Bluetooth connections (D) (weight: 961.6994)\n",
      "\n",
      "Topic 1:\n",
      "    1. Network communication : receive data from Internet (S) (weight: 2733.0457)\n",
      "    2. Network communication : view network state (S) (weight: 937.6609)\n",
      "    3. System tools : prevent device from sleeping (D) (weight: 829.5718)\n",
      "    4. Hardware controls : control vibrator (S) (weight: 792.1811)\n",
      "    5. Network communication : full Internet access (D) (weight: 723.5722)\n",
      "    6. Phone calls : read phone state and identity (D) (weight: 712.0161)\n",
      "    7. Storage : modify/delete USB storage contents modify/delete SD card contents (D) (weight: 677.7823)\n",
      "    8. System tools : automatically start at boot (S) (weight: 619.6857)\n",
      "    9. Your location : fine (GPS) location (D) (weight: 604.2863)\n",
      "    10. Your location : coarse (network-based) location (D) (weight: 460.1064)\n",
      "\n",
      "Topic 2:\n",
      "    1. Your accounts : discover known accounts (S) (weight: 1510.1035)\n",
      "    2. Your personal information : read calendar events (D) (weight: 1187.4274)\n",
      "    3. Your personal information : add or modify calendar events and send email to guests (D) (weight: 1119.2087)\n",
      "    4. Hardware controls : control flashlight (S) (weight: 796.3379)\n",
      "    5. Storage : modify/delete USB storage contents modify/delete SD card contents (D) (weight: 781.6860)\n",
      "    6. Hardware controls : control vibrator (S) (weight: 780.3409)\n",
      "    7. Network communication : view network state (S) (weight: 773.9834)\n",
      "    8. System tools : prevent device from sleeping (D) (weight: 695.7130)\n",
      "    9. Network communication : full Internet access (D) (weight: 683.2900)\n",
      "    10. Your location : coarse (network-based) location (D) (weight: 677.8649)\n",
      "\n",
      "Topic 3:\n",
      "    1. Your location : fine (GPS) location (D) (weight: 7713.7285)\n",
      "    2. Your location : coarse (network-based) location (D) (weight: 7446.0208)\n",
      "    3. Network communication : full Internet access (D) (weight: 6018.5373)\n",
      "    4. Storage : modify/delete USB storage contents modify/delete SD card contents (D) (weight: 5018.1392)\n",
      "    5. Hardware controls : take pictures and videos (D) (weight: 3827.8607)\n",
      "    6. Network communication : view network state (S) (weight: 3683.3174)\n",
      "    7. Services that cost you money : directly call phone numbers (D) (weight: 3623.7183)\n",
      "    8. Phone calls : read phone state and identity (D) (weight: 2956.6923)\n",
      "    9. System tools : retrieve running applications (D) (weight: 2383.0484)\n",
      "    10. Default : directly call any phone numbers (S) (weight: 171.2476)\n",
      "\n",
      "Topic 4:\n",
      "    1. Your personal information : read contact data (D) (weight: 2934.3151)\n",
      "    2. Your location : fine (GPS) location (D) (weight: 1791.1267)\n",
      "    3. Your location : coarse (network-based) location (D) (weight: 1657.0076)\n",
      "    4. Network communication : full Internet access (D) (weight: 1642.5878)\n",
      "    5. Phone calls : read phone state and identity (D) (weight: 1615.3673)\n",
      "    6. Storage : modify/delete USB storage contents modify/delete SD card contents (D) (weight: 1546.9968)\n",
      "    7. Network communication : view network state (S) (weight: 1476.2579)\n",
      "    8. Your personal information : write contact data (D) (weight: 1454.6866)\n",
      "    9. Your location : mock location sources for testing (D) (weight: 1387.0549)\n",
      "    10. Your location : access extra location provider commands (S) (weight: 1313.5341)\n",
      "\n",
      "Topic 5:\n",
      "    1. Phone calls : read phone state and identity (D) (weight: 8324.9459)\n",
      "    2. Network communication : view network state (S) (weight: 5204.5813)\n",
      "    3. Network communication : full Internet access (D) (weight: 4792.2844)\n",
      "    4. Network communication : view Wi-Fi state (S) (weight: 4529.4772)\n",
      "    5. Storage : modify/delete USB storage contents modify/delete SD card contents (D) (weight: 4350.3006)\n",
      "    6. Your location : fine (GPS) location (D) (weight: 810.4688)\n",
      "    7. Your location : coarse (network-based) location (D) (weight: 794.2534)\n",
      "    8. Hardware controls : control vibrator (S) (weight: 65.4904)\n",
      "    9. Your accounts : Google Maps (D) (weight: 2.0062)\n",
      "    10. Your accounts : Google Voice (D) (weight: 0.5453)\n",
      "\n",
      "Topic 6:\n",
      "    1. Hardware controls : control vibrator (S) (weight: 8893.4399)\n",
      "    2. System tools : automatically start at boot (S) (weight: 3494.3092)\n",
      "    3. Network communication : full Internet access (D) (weight: 3306.0918)\n",
      "    4. Network communication : view network state (S) (weight: 2535.6326)\n",
      "    5. Phone calls : read phone state and identity (D) (weight: 1835.6222)\n",
      "    6. Storage : modify/delete USB storage contents modify/delete SD card contents (D) (weight: 1440.4480)\n",
      "    7. System tools : prevent device from sleeping (D) (weight: 1264.2706)\n",
      "    8. Your location : coarse (network-based) location (D) (weight: 1213.6912)\n",
      "    9. System tools : disable keylock (D) (weight: 1004.5644)\n",
      "    10. Your personal information : read Browser's history and bookmarks (D) (weight: 995.5632)\n",
      "\n",
      "Topic 7:\n",
      "    1. System tools : set wallpaper (S) (weight: 5681.6563)\n",
      "    2. Storage : modify/delete USB storage contents modify/delete SD card contents (D) (weight: 1594.0433)\n",
      "    3. System tools : modify global system settings (D) (weight: 1575.7635)\n",
      "    4. Network communication : full Internet access (D) (weight: 1540.0774)\n",
      "    5. System tools : mount and unmount filesystems (D) (weight: 1422.2533)\n",
      "    6. Network communication : view network state (S) (weight: 1403.3888)\n",
      "    7. Phone calls : read phone state and identity (D) (weight: 642.1353)\n",
      "    8. System tools : retrieve running applications (D) (weight: 612.1171)\n",
      "    9. System tools : set wallpaper size hints (S) (weight: 551.8704)\n",
      "    10. Hardware controls : control vibrator (S) (weight: 288.4115)\n",
      "\n",
      "Topic 8:\n",
      "    1. System tools : prevent device from sleeping (D) (weight: 7830.3832)\n",
      "    2. Network communication : full Internet access (D) (weight: 1697.8030)\n",
      "    3. Storage : modify/delete USB storage contents modify/delete SD card contents (D) (weight: 1667.6302)\n",
      "    4. Network communication : view network state (S) (weight: 1287.4669)\n",
      "    5. Hardware controls : control vibrator (S) (weight: 952.9687)\n",
      "    6. System tools : change your UI settings (D) (weight: 760.3891)\n",
      "    7. System tools : make application always run (D) (weight: 103.8395)\n",
      "    8. Default : force device reboot (S) (weight: 43.6381)\n",
      "    9. Default : access the cache filesystem (S) (weight: 4.6235)\n",
      "    10. Default : full Internet access (S) (weight: 2.0560)\n",
      "\n",
      "Topic 9:\n",
      "    1. Network communication : full Internet access (D) (weight: 28533.6031)\n",
      "    2. Network communication : view network state (S) (weight: 12730.7786)\n",
      "    3. Storage : modify/delete USB storage contents modify/delete SD card contents (D) (weight: 4877.3743)\n",
      "    4. System tools : send sticky broadcast (S) (weight: 398.3423)\n",
      "    5. Your location : coarse (network-based) location (D) (weight: 0.1051)\n",
      "    6. Your location : fine (GPS) location (D) (weight: 0.1000)\n",
      "    7. Hardware controls : record audio (D) (weight: 0.1000)\n",
      "    8. Hardware controls : control vibrator (S) (weight: 0.1000)\n",
      "    9. Phone calls : read phone state and identity (D) (weight: 0.1000)\n",
      "    10. Network communication : control Near Field Communication (D) (weight: 0.1000)\n",
      "\n"
     ]
    }
   ],
   "source": [
    "########################################################################\n",
    "######################### Write your code here #########################\n",
    "########################################################################\n",
    "\n",
    "feature_names = permission_columns\n",
    "\n",
    "top_words = 10\n",
    "\n",
    "for topic_idx, topic in enumerate(lda.components_):\n",
    "    top_indices = topic.argsort()[:-top_words-1:-1]\n",
    "    \n",
    "    print(f\"Topic {topic_idx}:\")\n",
    "    for i, idx in enumerate(top_indices):\n",
    "        print(f\"    {i+1}. {feature_names[idx]} (weight: {topic[idx]:.4f})\")\n",
    "    print()\n"
   ]
  },
  {
   "cell_type": "markdown",
   "metadata": {},
   "source": [
    "*** WRITE YOUR ANSWER HERE IN TEXT ***\n",
    "\n",
    "\n",
    "Topic 0:\n",
    "Dominated by permissions for sending/receiving SMS, recording audio, accessing contacts, and intercepting calls.  \n",
    "**This topic is meaningful** because it clearly represents messaging and communication apps, which require these permissions.\n",
    "\n",
    "\n",
    "Topic 1: \n",
    "Focuses on network communication, device wake locks, and location access, suggesting apps that run background services or sync data, possibly with location features.  \n",
    "**This topic is somewhat meaningful** as it points to background service or utility apps, but is a bit broad and could include many app types.\n",
    "\n",
    "\n",
    "Topic 2:\n",
    "Emphasizes calendar and account access, with some device controls, indicating productivity or scheduling apps that manage events and user accounts.  \n",
    "**This topic is meaningful** because it clearly corresponds to productivity or calendar apps.\n",
    "\n",
    "\n",
    "\n",
    "Topic 3:\n",
    "Strongly focused on fine and coarse location, camera, and network access, likely representing navigation, travel, or map-based apps.  \n",
    "**This topic is meaningful** as the permissions are specific to navigation/location-based apps.\n",
    "\n",
    "Topic 4: \n",
    "Highlights contact data, location, and network access, suggesting social networking or contact management apps that use location sharing.  \n",
    "**This topic is meaningful** because it aligns well with social/contact apps.\n",
    "\n",
    "Topic 5:\n",
    "Dominated by phone state, network, and storage permissions, but lacks a clear app function; could be utilities or system apps.  \n",
    "**This topic is not meaningful** as it is too generic and not tied to a specific app purpose.\n",
    "\n",
    "Topic 6:\n",
    "Centered on vibration control, auto-start, and network access, possibly representing notification, alarm, or background service apps.  \n",
    "**This topic is somewhat meaningful**; it is interpretable but still broad and overlaps with other topics.\n",
    "\n",
    "Topic 7: \n",
    "Strongly features wallpaper and system setting permissions, clearly indicating personalization or wallpaper apps.  \n",
    "**This topic is meaningful** as it is clear and specific to personalization.\n",
    "\n",
    "Topic 8: \n",
    "Focuses on preventing device sleep and UI changes, suggesting power management or screen utility apps.  \n",
    "**This topic is somewhat meaningful**; it is interpretable but could include a variety of utility apps.\n",
    "\n",
    "Topic 9:\n",
    "Overwhelmingly dominated by generic internet and network permissions, with little else of note.  \n",
    "**This topic is not meaningful** as it is too generic and does not correspond to a specific app purpose.\n"
   ]
  },
  {
   "cell_type": "markdown",
   "metadata": {},
   "source": [
    "### Part F: For each topic, list the top 3 apps with at least 100000 ratings having the highest probability assigned to that topic [15 points]\n",
    "\n",
    "   - This further helps us understand what the topics actually mean.\n",
    "   - However, the data is noisy and this exercise may result in listing a bunch of obscure apps.\n",
    "   - Hence, filtering out all apps with less than 100000 ratings may help."
   ]
  },
  {
   "cell_type": "code",
   "execution_count": 50,
   "metadata": {},
   "outputs": [
    {
     "name": "stdout",
     "output_type": "stream",
     "text": [
      "Topic 0:\n",
      "  1. GO SMS Pro (Ratings: 130303, Topic prob: 0.8398)\n",
      "  2. Handcent SMS (Ratings: 396166, Topic prob: 0.8125)\n",
      "  3. Tango Voice & Video Calls (Ratings: 109238, Topic prob: 0.8087)\n",
      "\n",
      "Topic 1:\n",
      "  1. eBuddy Messenger (Ratings: 124973, Topic prob: 0.7423)\n",
      "  2. Restaurant Story™ (Ratings: 109318, Topic prob: 0.7273)\n",
      "  3. Restaurant Story??? (Ratings: 108088, Topic prob: 0.7273)\n",
      "\n",
      "Topic 2:\n",
      "  1. Tiny Flashlight + LED (Ratings: 600183, Topic prob: 0.7497)\n",
      "  2. The Weather Channel (Ratings: 211337, Topic prob: 0.5546)\n",
      "  3. Brightest Flashlight Free™ (Ratings: 139279, Topic prob: 0.5335)\n",
      "\n",
      "Topic 3:\n",
      "  1. Street View on Google Maps (Ratings: 168367, Topic prob: 0.6616)\n",
      "  2. GasBuddy (Ratings: 242005, Topic prob: 0.5609)\n",
      "  3. Toss It (Ratings: 160275, Topic prob: 0.5012)\n",
      "\n",
      "Topic 4:\n",
      "  1. KakaoTalk Mes???sen???ger (Ratings: 686446, Topic prob: 0.8025)\n",
      "  2. KakaoTalk Mes​sen​ger (Ratings: 689648, Topic prob: 0.8025)\n",
      "  3. Evernote (Ratings: 182863, Topic prob: 0.7950)\n",
      "\n",
      "Topic 5:\n",
      "  1. Angry Birds (Ratings: 936550, Topic prob: 0.7314)\n",
      "  2. Angry Birds Rio (Ratings: 362641, Topic prob: 0.7314)\n",
      "  3. Dictionary.com (Ratings: 122214, Topic prob: 0.7169)\n",
      "\n",
      "Topic 6:\n",
      "  1. Seesmic (Facebook, Twitter) (Ratings: 106137, Topic prob: 0.7787)\n",
      "  2. Opera Mini web browser (Ratings: 174293, Topic prob: 0.6861)\n",
      "  3. Skyfire Web Browser 4.0 (Ratings: 129859, Topic prob: 0.6767)\n",
      "\n",
      "Topic 7:\n",
      "  1. Wallpapers HD (Ratings: 141475, Topic prob: 0.6824)\n",
      "  2. GO Launcher EX (Ratings: 196764, Topic prob: 0.6473)\n",
      "  3. Strip Poker (Ratings: 126481, Topic prob: 0.6026)\n",
      "\n",
      "Topic 8:\n",
      "  1. Tank Hero (Ratings: 127674, Topic prob: 0.7153)\n",
      "  2. Robo Defense FREE (Ratings: 132610, Topic prob: 0.6251)\n",
      "  3. Fruit Slice (Ratings: 211982, Topic prob: 0.4248)\n",
      "\n",
      "Topic 9:\n",
      "  1. Angry Birds Seasons (Ratings: 357365, Topic prob: 0.6247)\n",
      "  2. Yoo Ninja! Free (Ratings: 115714, Topic prob: 0.6247)\n",
      "  3. Adobe Reader (Ratings: 105964, Topic prob: 0.5500)\n",
      "\n"
     ]
    }
   ],
   "source": [
    "########################################################################\n",
    "######################### Write your code here #########################\n",
    "########################################################################\n",
    "\n",
    "popular_app_indices = np.where(app_ratings >= 100000)[0]\n",
    "\n",
    "top_n = 3\n",
    "for topic_idx in range(lda.n_components):\n",
    "    topic_probs = topic_document[popular_app_indices, topic_idx]\n",
    "\n",
    "    top_indices = topic_probs.argsort()[-top_n:][::-1]\n",
    "    app_indices = popular_app_indices[top_indices]\n",
    "    print(f\"Topic {topic_idx}:\")\n",
    "    for i, idx in enumerate(app_indices):\n",
    "        print(f\"  {i+1}. {app_names[idx]} (Ratings: {app_ratings[idx]}, Topic prob: {topic_document[idx, topic_idx]:.4f})\")\n",
    "    print()\n",
    "\n"
   ]
  },
  {
   "cell_type": "markdown",
   "metadata": {},
   "source": [
    "### Part G: Visualize the document-topic proportion matrix in 2-D using t-SNE [10 points]\n",
    "\n",
    "Does our reduced dimensional space contain any structure? Visualize the documents (in the topic-space) using t-SNE.\n",
    "\n",
    "   * Use `TSNE` from `scikit-learn`.\n",
    "   * Set the angle to 0.99 and init to 'PCA'. Pick any learning rate that gives you a visually pleasing result.\n",
    "   * You may `fit` TSNE to a sample of the data (>1000 documents) instead of the full data.\n",
    "   * Remember to call `fit_transform` to obtain your 2-D data.\n",
    "   * Plot the t-SNE dimensions as a scatterplot.\n",
    "   * Color each point based on its most probable topic. Make sure you include a legend (10 colors).\n",
    "   \n",
    "Clusters in the t-SNE plot indicate groups of apps that have similar topics."
   ]
  },
  {
   "cell_type": "code",
   "execution_count": 51,
   "metadata": {},
   "outputs": [
    {
     "data": {
      "image/png": "[encoded data removed]",
      "text/plain": [
       "<Figure size 1000x800 with 2 Axes>"
      ]
     },
     "metadata": {},
     "output_type": "display_data"
    },
    {
     "name": "stdout",
     "output_type": "stream",
     "text": [
      "CPU times: user 5.44 s, sys: 174 ms, total: 5.61 s\n",
      "Wall time: 3.62 s\n"
     ]
    }
   ],
   "source": [
    "%%time\n",
    "########################################################################\n",
    "######################### Write your code here #########################\n",
    "########################################################################\n",
    "\n",
    "from sklearn.manifold import TSNE\n",
    "import matplotlib.pyplot as plt\n",
    "import numpy as np\n",
    "\n",
    "sample_size = 2000\n",
    "np.random.seed(42)\n",
    "sample_indices = np.random.choice(topic_document.shape[0], sample_size, replace=False)\n",
    "X_sample = topic_document[sample_indices]\n",
    "\n",
    "tsne = TSNE(n_components=2, angle=0.99, init='pca', learning_rate=200, random_state=42)\n",
    "X_tsne = tsne.fit_transform(X_sample)\n",
    "\n",
    "topic_labels = np.argmax(X_sample, axis=1)\n",
    "\n",
    "plt.figure(figsize=(10, 8))\n",
    "scatter = plt.scatter(X_tsne[:, 0], X_tsne[:, 1], c=topic_labels, cmap='tab10', s=10, alpha=0.7)\n",
    "plt.title(\"t-SNE Visualization of Apps in Topic Space\")\n",
    "plt.xlabel(\"t-SNE Dimension 1\")\n",
    "plt.ylabel(\"t-SNE Dimension 2\")\n",
    "plt.colorbar(scatter, ticks=range(10), label='Topic')\n",
    "plt.show()\n"
   ]
  },
  {
   "cell_type": "markdown",
   "metadata": {},
   "source": [
    "## Question 3: Questionnaire [5 points]\n",
    "\n",
    "Please answer this survey after you have done this homework: https://forms.gle/AShiHp2g4rnLeeqi7"
   ]
  }
 ],
 "metadata": {
  "kernelspec": {
   "display_name": "base",
   "language": "python",
   "name": "python3"
  },
  "language_info": {
   "codemirror_mode": {
    "name": "ipython",
    "version": 3
   },
   "file_extension": ".py",
   "mimetype": "text/x-python",
   "name": "python",
   "nbconvert_exporter": "python",
   "pygments_lexer": "ipython3",
   "version": "3.12.2"
  }
 },
 "nbformat": 4,
 "nbformat_minor": 4
}
